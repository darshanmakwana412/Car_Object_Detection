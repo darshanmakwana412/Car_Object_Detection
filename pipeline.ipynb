{
 "cells": [
  {
   "cell_type": "code",
   "execution_count": null,
   "metadata": {},
   "outputs": [],
   "source": []
  }
 ],
 "metadata": {
  "kernelspec": {
   "display_name": "Python 3.10.4 ('venv': venv)",
   "language": "python",
   "name": "python3"
  },
  "language_info": {
   "name": "python",
   "version": "3.10.4"
  },
  "orig_nbformat": 4,
  "vscode": {
   "interpreter": {
    "hash": "b202beb41d9f881741af4d2bfdacb96486881c121fe20aedef4a3d01955784ff"
   }
  }
 },
 "nbformat": 4,
 "nbformat_minor": 2
}
